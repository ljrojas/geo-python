{
 "cells": [
  {
   "cell_type": "markdown",
   "metadata": {},
   "source": [
    "### S5.2 Definicición de Estructura de Insumo para Tarea 1"
   ]
  },
  {
   "cell_type": "markdown",
   "metadata": {},
   "source": [
    "![Python](../docs/python_logo.jpg)"
   ]
  },
  {
   "cell_type": "markdown",
   "metadata": {},
   "source": [
    "### Agenda\n",
    "\n",
    "1. Objetivos Generales \n",
    "\n",
    "2. Objetivos Específicos\n",
    "\n",
    "3. Lectura de Archivo ShapeFile\n",
    "\n",
    "4. Atribuir Información Territorial\n",
    "\n",
    "5. Modificar a Archivo ShapeFile\n",
    "\n",
    "6. Guardar Achivo Resltante en GEE y Local\n",
    "\n",
    "7. Declaración de Tarea 1 y Criterios de Evaluación\n",
    "\n",
    "8. Referencias"
   ]
  },
  {
   "cell_type": "markdown",
   "metadata": {},
   "source": [
    "#### 1. Objetivos General:\n",
    "\n",
    "Esta submódulo aplicado se enfoca a generar el insumo base para el sistema de monitoreo de Detección de cambios. Para ello se requiere seleccionar un conjunto de terrenos eriazos en un año específico (ej: 2017), de los cuales la mitad presente construcciones nuevas en un año siguiente (ej: 2018) y la otra mitad continúe en estado eriazo (2018)  "
   ]
  },
  {
   "cell_type": "markdown",
   "metadata": {},
   "source": [
    "#### 2. Objetivo Específico:\n",
    "\n",
    "Poligonos de terrenos a analizar, en formato shapefile, con variables de ID único, Comuna, Ciudad, Region, Cambio entre tiempo 1 y 2 (binaria) y fechas del período considerado\n"
   ]
  },
  {
   "cell_type": "markdown",
   "metadata": {},
   "source": [
    "## Desarrollo"
   ]
  },
  {
   "cell_type": "markdown",
   "metadata": {},
   "source": [
    "#### 3. Lectura de Archivo ShapeFile\n",
    "\n",
    "El insumo general para el taller será archivo vectorial multipolígono, de formato shapefile (.shp) el cual de además de tener información espacial (coordenadas),  por cada polígolno tendrá información asociada que podríamos denominar atributos. A continuación se procederá a leer este tipo de archivos."
   ]
  },
  {
   "cell_type": "code",
   "execution_count": 1,
   "metadata": {},
   "outputs": [
    {
     "data": {
      "text/plain": [
       "['comunas_chile.dbf',\n",
       " 'sii_poligonos.shx',\n",
       " '.DS_Store',\n",
       " 'a_estudios_curso.shp',\n",
       " 'a_estudios_curso.cpg',\n",
       " 'sii_poligonos.shp',\n",
       " 'sii_poligonos.cpg',\n",
       " 'a_estudios_curso.shx',\n",
       " 'comunas_chile.shx',\n",
       " 'sii_poligonos.dbf',\n",
       " 'a_estudios_curso.dbf',\n",
       " 'comunas_chile.shp',\n",
       " 'a_estudios_curso.json',\n",
       " 'a_estudios_curso_bk.json',\n",
       " 'sii_poligonos.fix',\n",
       " 'a_estudios_curso.prj',\n",
       " 'sii_poligonos.prj',\n",
       " 'comunas_chile.prj']"
      ]
     },
     "execution_count": 1,
     "metadata": {},
     "output_type": "execute_result"
    }
   ],
   "source": [
    "# Importar librerías básicas\n",
    "import numpy as np\n",
    "import pandas as pd\n",
    "import geopandas as gpd\n",
    "import os\n",
    "\n",
    "### Definición de Directorio de Trabajo\n",
    "\n",
    "# en que directorio nos encontramos\n",
    "os.getcwd()\n",
    "\n",
    "#listar los archivos en la siguiente ruta \n",
    "os.listdir('../data/poligonos')"
   ]
  },
  {
   "cell_type": "code",
   "execution_count": 2,
   "metadata": {},
   "outputs": [
    {
     "data": {
      "text/html": [
       "<div>\n",
       "<style scoped>\n",
       "    .dataframe tbody tr th:only-of-type {\n",
       "        vertical-align: middle;\n",
       "    }\n",
       "\n",
       "    .dataframe tbody tr th {\n",
       "        vertical-align: top;\n",
       "    }\n",
       "\n",
       "    .dataframe thead th {\n",
       "        text-align: right;\n",
       "    }\n",
       "</style>\n",
       "<table border=\"1\" class=\"dataframe\">\n",
       "  <thead>\n",
       "    <tr style=\"text-align: right;\">\n",
       "      <th></th>\n",
       "      <th>ciudad</th>\n",
       "      <th>categoria</th>\n",
       "      <th>geometry</th>\n",
       "    </tr>\n",
       "  </thead>\n",
       "  <tbody>\n",
       "    <tr>\n",
       "      <th>0</th>\n",
       "      <td>arica</td>\n",
       "      <td>Urbano</td>\n",
       "      <td>POLYGON ((-70.29812 -18.50367, -70.29799 -18.5...</td>\n",
       "    </tr>\n",
       "    <tr>\n",
       "      <th>1</th>\n",
       "      <td>arica</td>\n",
       "      <td>Urbano</td>\n",
       "      <td>POLYGON ((-70.32214 -18.48055, -70.32198 -18.4...</td>\n",
       "    </tr>\n",
       "    <tr>\n",
       "      <th>2</th>\n",
       "      <td>arica</td>\n",
       "      <td>Urbano</td>\n",
       "      <td>POLYGON ((-70.28930 -18.42657, -70.28930 -18.4...</td>\n",
       "    </tr>\n",
       "    <tr>\n",
       "      <th>3</th>\n",
       "      <td>arica</td>\n",
       "      <td>Urbano</td>\n",
       "      <td>POLYGON ((-70.27978 -18.46046, -70.27974 -18.4...</td>\n",
       "    </tr>\n",
       "    <tr>\n",
       "      <th>4</th>\n",
       "      <td>arica</td>\n",
       "      <td>Urbano</td>\n",
       "      <td>POLYGON ((-70.27751 -18.48242, -70.27744 -18.4...</td>\n",
       "    </tr>\n",
       "  </tbody>\n",
       "</table>\n",
       "</div>"
      ],
      "text/plain": [
       "  ciudad categoria                                           geometry\n",
       "0  arica    Urbano  POLYGON ((-70.29812 -18.50367, -70.29799 -18.5...\n",
       "1  arica    Urbano  POLYGON ((-70.32214 -18.48055, -70.32198 -18.4...\n",
       "2  arica    Urbano  POLYGON ((-70.28930 -18.42657, -70.28930 -18.4...\n",
       "3  arica    Urbano  POLYGON ((-70.27978 -18.46046, -70.27974 -18.4...\n",
       "4  arica    Urbano  POLYGON ((-70.27751 -18.48242, -70.27744 -18.4..."
      ]
     },
     "execution_count": 2,
     "metadata": {},
     "output_type": "execute_result"
    }
   ],
   "source": [
    "# Leer Achivo de Polígonos de Ejemplos de Áreas de Estudios\n",
    "a_estudios = gpd.read_file('../data/poligonos/sii_poligonos.shp',\n",
    "                          geometry=['geometry'])\n",
    "a_estudios.head()"
   ]
  },
  {
   "cell_type": "markdown",
   "metadata": {},
   "source": [
    "Revisión de a_estudios tomando una muestra de 'arica'"
   ]
  },
  {
   "cell_type": "code",
   "execution_count": 3,
   "metadata": {},
   "outputs": [
    {
     "data": {
      "text/plain": [
       "<matplotlib.axes._subplots.AxesSubplot at 0x11a9a16d0>"
      ]
     },
     "execution_count": 3,
     "metadata": {},
     "output_type": "execute_result"
    },
    {
     "data": {
      "image/png": "[encoded data removed]",
      "text/plain": [
       "<Figure size 432x288 with 1 Axes>"
      ]
     },
     "metadata": {
      "needs_background": "light"
     },
     "output_type": "display_data"
    }
   ],
   "source": [
    "# Solo para efectos de revisión y visualización\n",
    "arica_AE = a_estudios[a_estudios.ciudad == 'arica' ]\n",
    "arica_AE = arica_AE.iloc[:1, :]\n",
    "#arica_AE.head()\n",
    "arica_AE.plot()"
   ]
  },
  {
   "cell_type": "markdown",
   "metadata": {},
   "source": [
    "#### 4. Atribuir Información Territorial"
   ]
  },
  {
   "cell_type": "markdown",
   "metadata": {},
   "source": [
    "Ahora se procederá a atribuir información proveniente de otra cobertura espacial, en este caso comunas Censo, a nuestras áreas de estudios."
   ]
  },
  {
   "cell_type": "code",
   "execution_count": 4,
   "metadata": {},
   "outputs": [
    {
     "data": {
      "text/html": [
       "<div>\n",
       "<style scoped>\n",
       "    .dataframe tbody tr th:only-of-type {\n",
       "        vertical-align: middle;\n",
       "    }\n",
       "\n",
       "    .dataframe tbody tr th {\n",
       "        vertical-align: top;\n",
       "    }\n",
       "\n",
       "    .dataframe thead th {\n",
       "        text-align: right;\n",
       "    }\n",
       "</style>\n",
       "<table border=\"1\" class=\"dataframe\">\n",
       "  <thead>\n",
       "    <tr style=\"text-align: right;\">\n",
       "      <th></th>\n",
       "      <th>OBJECTID</th>\n",
       "      <th>REGION</th>\n",
       "      <th>NOM_REGION</th>\n",
       "      <th>PROVINCIA</th>\n",
       "      <th>NOM_PROVIN</th>\n",
       "      <th>COMUNA</th>\n",
       "      <th>NOM_COMUNA</th>\n",
       "      <th>Shape_Leng</th>\n",
       "      <th>Shape_Area</th>\n",
       "      <th>geometry</th>\n",
       "    </tr>\n",
       "  </thead>\n",
       "  <tbody>\n",
       "    <tr>\n",
       "      <th>0</th>\n",
       "      <td>1.0</td>\n",
       "      <td>01</td>\n",
       "      <td>REGIÓN DE TARAPACÁ</td>\n",
       "      <td>014</td>\n",
       "      <td>TAMARUGAL</td>\n",
       "      <td>01401</td>\n",
       "      <td>POZO ALMONTE</td>\n",
       "      <td>6.717379</td>\n",
       "      <td>1.195248</td>\n",
       "      <td>POLYGON ((500782.176 7797346.169, 500996.528 7...</td>\n",
       "    </tr>\n",
       "    <tr>\n",
       "      <th>1</th>\n",
       "      <td>2.0</td>\n",
       "      <td>01</td>\n",
       "      <td>REGIÓN DE TARAPACÁ</td>\n",
       "      <td>014</td>\n",
       "      <td>TAMARUGAL</td>\n",
       "      <td>01403</td>\n",
       "      <td>COLCHANE</td>\n",
       "      <td>3.103198</td>\n",
       "      <td>0.344799</td>\n",
       "      <td>POLYGON ((505407.924 7905907.397, 506489.087 7...</td>\n",
       "    </tr>\n",
       "    <tr>\n",
       "      <th>2</th>\n",
       "      <td>3.0</td>\n",
       "      <td>01</td>\n",
       "      <td>REGIÓN DE TARAPACÁ</td>\n",
       "      <td>014</td>\n",
       "      <td>TAMARUGAL</td>\n",
       "      <td>01405</td>\n",
       "      <td>PICA</td>\n",
       "      <td>6.024023</td>\n",
       "      <td>0.778450</td>\n",
       "      <td>POLYGON ((512821.722 7828695.307, 512914.548 7...</td>\n",
       "    </tr>\n",
       "    <tr>\n",
       "      <th>3</th>\n",
       "      <td>4.0</td>\n",
       "      <td>01</td>\n",
       "      <td>REGIÓN DE TARAPACÁ</td>\n",
       "      <td>014</td>\n",
       "      <td>TAMARUGAL</td>\n",
       "      <td>01402</td>\n",
       "      <td>CAMIÑA</td>\n",
       "      <td>2.125150</td>\n",
       "      <td>0.189286</td>\n",
       "      <td>POLYGON ((458391.728 7892272.229, 458457.775 7...</td>\n",
       "    </tr>\n",
       "    <tr>\n",
       "      <th>4</th>\n",
       "      <td>5.0</td>\n",
       "      <td>01</td>\n",
       "      <td>REGIÓN DE TARAPACÁ</td>\n",
       "      <td>014</td>\n",
       "      <td>TAMARUGAL</td>\n",
       "      <td>01404</td>\n",
       "      <td>HUARA</td>\n",
       "      <td>6.353887</td>\n",
       "      <td>0.902255</td>\n",
       "      <td>MULTIPOLYGON (((381956.407 7790625.812, 381945...</td>\n",
       "    </tr>\n",
       "  </tbody>\n",
       "</table>\n",
       "</div>"
      ],
      "text/plain": [
       "   OBJECTID REGION          NOM_REGION PROVINCIA NOM_PROVIN COMUNA  \\\n",
       "0       1.0     01  REGIÓN DE TARAPACÁ       014  TAMARUGAL  01401   \n",
       "1       2.0     01  REGIÓN DE TARAPACÁ       014  TAMARUGAL  01403   \n",
       "2       3.0     01  REGIÓN DE TARAPACÁ       014  TAMARUGAL  01405   \n",
       "3       4.0     01  REGIÓN DE TARAPACÁ       014  TAMARUGAL  01402   \n",
       "4       5.0     01  REGIÓN DE TARAPACÁ       014  TAMARUGAL  01404   \n",
       "\n",
       "     NOM_COMUNA  Shape_Leng  Shape_Area  \\\n",
       "0  POZO ALMONTE    6.717379    1.195248   \n",
       "1      COLCHANE    3.103198    0.344799   \n",
       "2          PICA    6.024023    0.778450   \n",
       "3        CAMIÑA    2.125150    0.189286   \n",
       "4         HUARA    6.353887    0.902255   \n",
       "\n",
       "                                            geometry  \n",
       "0  POLYGON ((500782.176 7797346.169, 500996.528 7...  \n",
       "1  POLYGON ((505407.924 7905907.397, 506489.087 7...  \n",
       "2  POLYGON ((512821.722 7828695.307, 512914.548 7...  \n",
       "3  POLYGON ((458391.728 7892272.229, 458457.775 7...  \n",
       "4  MULTIPOLYGON (((381956.407 7790625.812, 381945...  "
      ]
     },
     "execution_count": 4,
     "metadata": {},
     "output_type": "execute_result"
    }
   ],
   "source": [
    "#Lectura de Shape de Comunas de Censo\n",
    "\n",
    "#comunas = gpd.read_file('D:/data/DPA/DPA INE/Comuna.shp')\n",
    "comunas = gpd.read_file('../data/poligonos/comunas_chile.shp')\n",
    "comunas.head()"
   ]
  },
  {
   "cell_type": "code",
   "execution_count": 5,
   "metadata": {},
   "outputs": [
    {
     "data": {
      "text/plain": [
       "<matplotlib.axes._subplots.AxesSubplot at 0x120e9ba10>"
      ]
     },
     "execution_count": 5,
     "metadata": {},
     "output_type": "execute_result"
    },
    {
     "data": {
      "image/png": "[encoded data removed]",
      "text/plain": [
       "<Figure size 432x288 with 1 Axes>"
      ]
     },
     "metadata": {
      "needs_background": "light"
     },
     "output_type": "display_data"
    }
   ],
   "source": [
    "# Solo para efectos de revisión y visualización\n",
    "vina = comunas[comunas.NOM_COMUNA == 'VIÑA DEL MAR']\n",
    "vina.geometry.plot()"
   ]
  },
  {
   "cell_type": "code",
   "execution_count": 6,
   "metadata": {},
   "outputs": [
    {
     "data": {
      "application/vnd.jupyter.widget-view+json": {
       "model_id": "c62779683f734263ac72ade4f6e30996",
       "version_major": 2,
       "version_minor": 0
      },
      "text/plain": [
       "interactive(children=(Select(description='COMUNA:', options=('POZO ALMONTE', 'COLCHANE', 'PICA', 'CAMIÑA', 'HU…"
      ]
     },
     "metadata": {},
     "output_type": "display_data"
    }
   ],
   "source": [
    "# Solo para efectos de revisión y visualización más amplia\n",
    "\n",
    "import ipywidgets as widgets\n",
    "comunas_nombres = comunas.NOM_COMUNA.unique()\n",
    "\n",
    "def plot_comuna(nombre_com):    \n",
    "    comuna_sel = comunas[comunas.NOM_COMUNA == nombre_com]\n",
    "    comuna_sel.geometry.plot()\n",
    "\n",
    "\n",
    "widgets.interactive(plot_comuna, nombre_com =widgets.Select(\n",
    "    options=comunas_nombres.tolist(),\n",
    "    value='POZO ALMONTE',\n",
    "    # rows=10,\n",
    "    description='COMUNA:',\n",
    "    disabled=False\n",
    "))\n"
   ]
  },
  {
   "cell_type": "markdown",
   "metadata": {},
   "source": [
    "De las dos archivos vectoriales se de revisar compatibilidad de Sistema de Referencia de Coordenadas (CRS)"
   ]
  },
  {
   "cell_type": "code",
   "execution_count": 8,
   "metadata": {},
   "outputs": [
    {
     "name": "stdout",
     "output_type": "stream",
     "text": [
      "epsg:32719\n",
      "epsg:4326\n"
     ]
    }
   ],
   "source": [
    "print(comunas.crs) \n",
    "print(a_estudios.crs) "
   ]
  },
  {
   "cell_type": "markdown",
   "metadata": {},
   "source": [
    "Para el transcurso del taller vamos a trabajar en `epsg:4326`, así que debemos reproyectar el archivo de comunas"
   ]
  },
  {
   "cell_type": "code",
   "execution_count": 9,
   "metadata": {},
   "outputs": [],
   "source": [
    "#reproyección  de geometrías Comunas\n",
    "comunas = comunas.to_crs('EPSG:4326')\n",
    "#comunas.head()"
   ]
  },
  {
   "cell_type": "markdown",
   "metadata": {},
   "source": [
    "Ahora viene el paso de atribuir información contenida en archivo comunas a a_estudios, de acuerdo a la comuna en que se encuentren, para eso utilizaremos al función `sjoin` de GeoPandas."
   ]
  },
  {
   "cell_type": "code",
   "execution_count": 10,
   "metadata": {},
   "outputs": [
    {
     "data": {
      "text/html": [
       "<div>\n",
       "<style scoped>\n",
       "    .dataframe tbody tr th:only-of-type {\n",
       "        vertical-align: middle;\n",
       "    }\n",
       "\n",
       "    .dataframe tbody tr th {\n",
       "        vertical-align: top;\n",
       "    }\n",
       "\n",
       "    .dataframe thead th {\n",
       "        text-align: right;\n",
       "    }\n",
       "</style>\n",
       "<table border=\"1\" class=\"dataframe\">\n",
       "  <thead>\n",
       "    <tr style=\"text-align: right;\">\n",
       "      <th></th>\n",
       "      <th>ciudad</th>\n",
       "      <th>categoria</th>\n",
       "      <th>geometry</th>\n",
       "      <th>index_right</th>\n",
       "      <th>OBJECTID</th>\n",
       "      <th>REGION</th>\n",
       "      <th>NOM_REGION</th>\n",
       "      <th>PROVINCIA</th>\n",
       "      <th>NOM_PROVIN</th>\n",
       "      <th>COMUNA</th>\n",
       "      <th>NOM_COMUNA</th>\n",
       "      <th>Shape_Leng</th>\n",
       "      <th>Shape_Area</th>\n",
       "    </tr>\n",
       "  </thead>\n",
       "  <tbody>\n",
       "    <tr>\n",
       "      <th>0</th>\n",
       "      <td>arica</td>\n",
       "      <td>Urbano</td>\n",
       "      <td>POLYGON ((-70.29812 -18.50367, -70.29799 -18.5...</td>\n",
       "      <td>342</td>\n",
       "      <td>343.0</td>\n",
       "      <td>15</td>\n",
       "      <td>REGIÓN DE ARICA Y PARINACOTA</td>\n",
       "      <td>151</td>\n",
       "      <td>ARICA</td>\n",
       "      <td>15101</td>\n",
       "      <td>ARICA</td>\n",
       "      <td>3.435832</td>\n",
       "      <td>0.410331</td>\n",
       "    </tr>\n",
       "    <tr>\n",
       "      <th>1</th>\n",
       "      <td>arica</td>\n",
       "      <td>Urbano</td>\n",
       "      <td>POLYGON ((-70.32214 -18.48055, -70.32198 -18.4...</td>\n",
       "      <td>342</td>\n",
       "      <td>343.0</td>\n",
       "      <td>15</td>\n",
       "      <td>REGIÓN DE ARICA Y PARINACOTA</td>\n",
       "      <td>151</td>\n",
       "      <td>ARICA</td>\n",
       "      <td>15101</td>\n",
       "      <td>ARICA</td>\n",
       "      <td>3.435832</td>\n",
       "      <td>0.410331</td>\n",
       "    </tr>\n",
       "    <tr>\n",
       "      <th>2</th>\n",
       "      <td>arica</td>\n",
       "      <td>Urbano</td>\n",
       "      <td>POLYGON ((-70.28930 -18.42657, -70.28930 -18.4...</td>\n",
       "      <td>342</td>\n",
       "      <td>343.0</td>\n",
       "      <td>15</td>\n",
       "      <td>REGIÓN DE ARICA Y PARINACOTA</td>\n",
       "      <td>151</td>\n",
       "      <td>ARICA</td>\n",
       "      <td>15101</td>\n",
       "      <td>ARICA</td>\n",
       "      <td>3.435832</td>\n",
       "      <td>0.410331</td>\n",
       "    </tr>\n",
       "    <tr>\n",
       "      <th>3</th>\n",
       "      <td>arica</td>\n",
       "      <td>Urbano</td>\n",
       "      <td>POLYGON ((-70.27978 -18.46046, -70.27974 -18.4...</td>\n",
       "      <td>342</td>\n",
       "      <td>343.0</td>\n",
       "      <td>15</td>\n",
       "      <td>REGIÓN DE ARICA Y PARINACOTA</td>\n",
       "      <td>151</td>\n",
       "      <td>ARICA</td>\n",
       "      <td>15101</td>\n",
       "      <td>ARICA</td>\n",
       "      <td>3.435832</td>\n",
       "      <td>0.410331</td>\n",
       "    </tr>\n",
       "    <tr>\n",
       "      <th>4</th>\n",
       "      <td>arica</td>\n",
       "      <td>Urbano</td>\n",
       "      <td>POLYGON ((-70.27751 -18.48242, -70.27744 -18.4...</td>\n",
       "      <td>342</td>\n",
       "      <td>343.0</td>\n",
       "      <td>15</td>\n",
       "      <td>REGIÓN DE ARICA Y PARINACOTA</td>\n",
       "      <td>151</td>\n",
       "      <td>ARICA</td>\n",
       "      <td>15101</td>\n",
       "      <td>ARICA</td>\n",
       "      <td>3.435832</td>\n",
       "      <td>0.410331</td>\n",
       "    </tr>\n",
       "  </tbody>\n",
       "</table>\n",
       "</div>"
      ],
      "text/plain": [
       "  ciudad categoria                                           geometry  \\\n",
       "0  arica    Urbano  POLYGON ((-70.29812 -18.50367, -70.29799 -18.5...   \n",
       "1  arica    Urbano  POLYGON ((-70.32214 -18.48055, -70.32198 -18.4...   \n",
       "2  arica    Urbano  POLYGON ((-70.28930 -18.42657, -70.28930 -18.4...   \n",
       "3  arica    Urbano  POLYGON ((-70.27978 -18.46046, -70.27974 -18.4...   \n",
       "4  arica    Urbano  POLYGON ((-70.27751 -18.48242, -70.27744 -18.4...   \n",
       "\n",
       "   index_right  OBJECTID REGION                    NOM_REGION PROVINCIA  \\\n",
       "0          342     343.0     15  REGIÓN DE ARICA Y PARINACOTA       151   \n",
       "1          342     343.0     15  REGIÓN DE ARICA Y PARINACOTA       151   \n",
       "2          342     343.0     15  REGIÓN DE ARICA Y PARINACOTA       151   \n",
       "3          342     343.0     15  REGIÓN DE ARICA Y PARINACOTA       151   \n",
       "4          342     343.0     15  REGIÓN DE ARICA Y PARINACOTA       151   \n",
       "\n",
       "  NOM_PROVIN COMUNA NOM_COMUNA  Shape_Leng  Shape_Area  \n",
       "0      ARICA  15101      ARICA    3.435832    0.410331  \n",
       "1      ARICA  15101      ARICA    3.435832    0.410331  \n",
       "2      ARICA  15101      ARICA    3.435832    0.410331  \n",
       "3      ARICA  15101      ARICA    3.435832    0.410331  \n",
       "4      ARICA  15101      ARICA    3.435832    0.410331  "
      ]
     },
     "execution_count": 10,
     "metadata": {},
     "output_type": "execute_result"
    }
   ],
   "source": [
    "## Atribuir Información de comunas a áreas de estudio\n",
    "a_estudios = gpd.sjoin(a_estudios, comunas, op = 'within',\n",
    "                       how = 'left')\n",
    "a_estudios.head()"
   ]
  },
  {
   "cell_type": "markdown",
   "metadata": {},
   "source": [
    "#### 5. Modificar variables a Archivo ShapeFile"
   ]
  },
  {
   "cell_type": "markdown",
   "metadata": {},
   "source": [
    "Ahora necesitamos modificar la variable categoría y Ciudad, a la primera se realizará una modificación condicional, donde si es cambio será 1 si no será 0. Mientras  que a la variable Ciudad solo se convertirá en Mayúscula"
   ]
  },
  {
   "cell_type": "code",
   "execution_count": 12,
   "metadata": {},
   "outputs": [
    {
     "data": {
      "text/html": [
       "<div>\n",
       "<style scoped>\n",
       "    .dataframe tbody tr th:only-of-type {\n",
       "        vertical-align: middle;\n",
       "    }\n",
       "\n",
       "    .dataframe tbody tr th {\n",
       "        vertical-align: top;\n",
       "    }\n",
       "\n",
       "    .dataframe thead th {\n",
       "        text-align: right;\n",
       "    }\n",
       "</style>\n",
       "<table border=\"1\" class=\"dataframe\">\n",
       "  <thead>\n",
       "    <tr style=\"text-align: right;\">\n",
       "      <th></th>\n",
       "      <th>ciudad</th>\n",
       "      <th>categoria</th>\n",
       "      <th>geometry</th>\n",
       "      <th>index_right</th>\n",
       "      <th>OBJECTID</th>\n",
       "      <th>REGION</th>\n",
       "      <th>NOM_REGION</th>\n",
       "      <th>PROVINCIA</th>\n",
       "      <th>NOM_PROVIN</th>\n",
       "      <th>COMUNA</th>\n",
       "      <th>NOM_COMUNA</th>\n",
       "      <th>Shape_Leng</th>\n",
       "      <th>Shape_Area</th>\n",
       "    </tr>\n",
       "  </thead>\n",
       "  <tbody>\n",
       "    <tr>\n",
       "      <th>55</th>\n",
       "      <td>OSORNO</td>\n",
       "      <td>0</td>\n",
       "      <td>POLYGON ((-73.19824 -40.55052, -73.19822 -40.5...</td>\n",
       "      <td>257</td>\n",
       "      <td>258.0</td>\n",
       "      <td>10</td>\n",
       "      <td>REGIÓN DE LOS LAGOS</td>\n",
       "      <td>103</td>\n",
       "      <td>OSORNO</td>\n",
       "      <td>10301</td>\n",
       "      <td>OSORNO</td>\n",
       "      <td>2.667426</td>\n",
       "      <td>0.101634</td>\n",
       "    </tr>\n",
       "    <tr>\n",
       "      <th>56</th>\n",
       "      <td>OSORNO</td>\n",
       "      <td>0</td>\n",
       "      <td>POLYGON ((-73.15250 -40.53040, -73.15216 -40.5...</td>\n",
       "      <td>257</td>\n",
       "      <td>258.0</td>\n",
       "      <td>10</td>\n",
       "      <td>REGIÓN DE LOS LAGOS</td>\n",
       "      <td>103</td>\n",
       "      <td>OSORNO</td>\n",
       "      <td>10301</td>\n",
       "      <td>OSORNO</td>\n",
       "      <td>2.667426</td>\n",
       "      <td>0.101634</td>\n",
       "    </tr>\n",
       "    <tr>\n",
       "      <th>57</th>\n",
       "      <td>OSORNO</td>\n",
       "      <td>0</td>\n",
       "      <td>POLYGON ((-73.11337 -40.55615, -73.11328 -40.5...</td>\n",
       "      <td>257</td>\n",
       "      <td>258.0</td>\n",
       "      <td>10</td>\n",
       "      <td>REGIÓN DE LOS LAGOS</td>\n",
       "      <td>103</td>\n",
       "      <td>OSORNO</td>\n",
       "      <td>10301</td>\n",
       "      <td>OSORNO</td>\n",
       "      <td>2.667426</td>\n",
       "      <td>0.101634</td>\n",
       "    </tr>\n",
       "    <tr>\n",
       "      <th>58</th>\n",
       "      <td>OSORNO</td>\n",
       "      <td>0</td>\n",
       "      <td>POLYGON ((-73.11256 -40.55628, -73.11250 -40.5...</td>\n",
       "      <td>257</td>\n",
       "      <td>258.0</td>\n",
       "      <td>10</td>\n",
       "      <td>REGIÓN DE LOS LAGOS</td>\n",
       "      <td>103</td>\n",
       "      <td>OSORNO</td>\n",
       "      <td>10301</td>\n",
       "      <td>OSORNO</td>\n",
       "      <td>2.667426</td>\n",
       "      <td>0.101634</td>\n",
       "    </tr>\n",
       "    <tr>\n",
       "      <th>59</th>\n",
       "      <td>OSORNO</td>\n",
       "      <td>0</td>\n",
       "      <td>POLYGON ((-73.08681 -40.61905, -73.08656 -40.6...</td>\n",
       "      <td>257</td>\n",
       "      <td>258.0</td>\n",
       "      <td>10</td>\n",
       "      <td>REGIÓN DE LOS LAGOS</td>\n",
       "      <td>103</td>\n",
       "      <td>OSORNO</td>\n",
       "      <td>10301</td>\n",
       "      <td>OSORNO</td>\n",
       "      <td>2.667426</td>\n",
       "      <td>0.101634</td>\n",
       "    </tr>\n",
       "  </tbody>\n",
       "</table>\n",
       "</div>"
      ],
      "text/plain": [
       "    ciudad  categoria                                           geometry  \\\n",
       "55  OSORNO          0  POLYGON ((-73.19824 -40.55052, -73.19822 -40.5...   \n",
       "56  OSORNO          0  POLYGON ((-73.15250 -40.53040, -73.15216 -40.5...   \n",
       "57  OSORNO          0  POLYGON ((-73.11337 -40.55615, -73.11328 -40.5...   \n",
       "58  OSORNO          0  POLYGON ((-73.11256 -40.55628, -73.11250 -40.5...   \n",
       "59  OSORNO          0  POLYGON ((-73.08681 -40.61905, -73.08656 -40.6...   \n",
       "\n",
       "    index_right  OBJECTID REGION           NOM_REGION PROVINCIA NOM_PROVIN  \\\n",
       "55          257     258.0     10  REGIÓN DE LOS LAGOS       103     OSORNO   \n",
       "56          257     258.0     10  REGIÓN DE LOS LAGOS       103     OSORNO   \n",
       "57          257     258.0     10  REGIÓN DE LOS LAGOS       103     OSORNO   \n",
       "58          257     258.0     10  REGIÓN DE LOS LAGOS       103     OSORNO   \n",
       "59          257     258.0     10  REGIÓN DE LOS LAGOS       103     OSORNO   \n",
       "\n",
       "   COMUNA NOM_COMUNA  Shape_Leng  Shape_Area  \n",
       "55  10301     OSORNO    2.667426    0.101634  \n",
       "56  10301     OSORNO    2.667426    0.101634  \n",
       "57  10301     OSORNO    2.667426    0.101634  \n",
       "58  10301     OSORNO    2.667426    0.101634  \n",
       "59  10301     OSORNO    2.667426    0.101634  "
      ]
     },
     "execution_count": 12,
     "metadata": {},
     "output_type": "execute_result"
    }
   ],
   "source": [
    "a_estudios.categoria.unique()\n",
    "a_estudios['categoria'] = [1 if x == 'Cambio' else 0 for x in a_estudios['categoria']]\n",
    "a_estudios['ciudad'] = a_estudios.ciudad.str.upper()\n",
    "a_estudios.tail()"
   ]
  },
  {
   "cell_type": "markdown",
   "metadata": {},
   "source": [
    "La clave del taller está en la definición correcta de la fecha del cambio del sitio de entrenamiento, donde debe existir certeza que cuando la geometría corresponde a cambio se debe asignar el año completo que ya satelitalmente en cualquiera de sus meses cambió. \n",
    "\n",
    "En el siguiente punto nosotros en nuestra a_estudios asignaremos condicionalmente la fecha de acuerdo a la categoría cambio. En su caso esto ya de debe venir definido cuando se generen las a de estudios."
   ]
  },
  {
   "cell_type": "code",
   "execution_count": 13,
   "metadata": {
    "scrolled": true
   },
   "outputs": [
    {
     "data": {
      "text/html": [
       "<div>\n",
       "<style scoped>\n",
       "    .dataframe tbody tr th:only-of-type {\n",
       "        vertical-align: middle;\n",
       "    }\n",
       "\n",
       "    .dataframe tbody tr th {\n",
       "        vertical-align: top;\n",
       "    }\n",
       "\n",
       "    .dataframe thead th {\n",
       "        text-align: right;\n",
       "    }\n",
       "</style>\n",
       "<table border=\"1\" class=\"dataframe\">\n",
       "  <thead>\n",
       "    <tr style=\"text-align: right;\">\n",
       "      <th></th>\n",
       "      <th>ciudad</th>\n",
       "      <th>categoria</th>\n",
       "      <th>geometry</th>\n",
       "      <th>index_right</th>\n",
       "      <th>OBJECTID</th>\n",
       "      <th>REGION</th>\n",
       "      <th>NOM_REGION</th>\n",
       "      <th>PROVINCIA</th>\n",
       "      <th>NOM_PROVIN</th>\n",
       "      <th>COMUNA</th>\n",
       "      <th>NOM_COMUNA</th>\n",
       "      <th>Shape_Leng</th>\n",
       "      <th>Shape_Area</th>\n",
       "      <th>fecha</th>\n",
       "    </tr>\n",
       "  </thead>\n",
       "  <tbody>\n",
       "    <tr>\n",
       "      <th>0</th>\n",
       "      <td>ARICA</td>\n",
       "      <td>0</td>\n",
       "      <td>POLYGON ((-70.29812 -18.50367, -70.29799 -18.5...</td>\n",
       "      <td>342</td>\n",
       "      <td>343.0</td>\n",
       "      <td>15</td>\n",
       "      <td>REGIÓN DE ARICA Y PARINACOTA</td>\n",
       "      <td>151</td>\n",
       "      <td>ARICA</td>\n",
       "      <td>15101</td>\n",
       "      <td>ARICA</td>\n",
       "      <td>3.435832</td>\n",
       "      <td>0.410331</td>\n",
       "      <td>2017</td>\n",
       "    </tr>\n",
       "    <tr>\n",
       "      <th>1</th>\n",
       "      <td>ARICA</td>\n",
       "      <td>0</td>\n",
       "      <td>POLYGON ((-70.32214 -18.48055, -70.32198 -18.4...</td>\n",
       "      <td>342</td>\n",
       "      <td>343.0</td>\n",
       "      <td>15</td>\n",
       "      <td>REGIÓN DE ARICA Y PARINACOTA</td>\n",
       "      <td>151</td>\n",
       "      <td>ARICA</td>\n",
       "      <td>15101</td>\n",
       "      <td>ARICA</td>\n",
       "      <td>3.435832</td>\n",
       "      <td>0.410331</td>\n",
       "      <td>2017</td>\n",
       "    </tr>\n",
       "    <tr>\n",
       "      <th>2</th>\n",
       "      <td>ARICA</td>\n",
       "      <td>0</td>\n",
       "      <td>POLYGON ((-70.28930 -18.42657, -70.28930 -18.4...</td>\n",
       "      <td>342</td>\n",
       "      <td>343.0</td>\n",
       "      <td>15</td>\n",
       "      <td>REGIÓN DE ARICA Y PARINACOTA</td>\n",
       "      <td>151</td>\n",
       "      <td>ARICA</td>\n",
       "      <td>15101</td>\n",
       "      <td>ARICA</td>\n",
       "      <td>3.435832</td>\n",
       "      <td>0.410331</td>\n",
       "      <td>2017</td>\n",
       "    </tr>\n",
       "    <tr>\n",
       "      <th>3</th>\n",
       "      <td>ARICA</td>\n",
       "      <td>0</td>\n",
       "      <td>POLYGON ((-70.27978 -18.46046, -70.27974 -18.4...</td>\n",
       "      <td>342</td>\n",
       "      <td>343.0</td>\n",
       "      <td>15</td>\n",
       "      <td>REGIÓN DE ARICA Y PARINACOTA</td>\n",
       "      <td>151</td>\n",
       "      <td>ARICA</td>\n",
       "      <td>15101</td>\n",
       "      <td>ARICA</td>\n",
       "      <td>3.435832</td>\n",
       "      <td>0.410331</td>\n",
       "      <td>2017</td>\n",
       "    </tr>\n",
       "    <tr>\n",
       "      <th>4</th>\n",
       "      <td>ARICA</td>\n",
       "      <td>0</td>\n",
       "      <td>POLYGON ((-70.27751 -18.48242, -70.27744 -18.4...</td>\n",
       "      <td>342</td>\n",
       "      <td>343.0</td>\n",
       "      <td>15</td>\n",
       "      <td>REGIÓN DE ARICA Y PARINACOTA</td>\n",
       "      <td>151</td>\n",
       "      <td>ARICA</td>\n",
       "      <td>15101</td>\n",
       "      <td>ARICA</td>\n",
       "      <td>3.435832</td>\n",
       "      <td>0.410331</td>\n",
       "      <td>2017</td>\n",
       "    </tr>\n",
       "  </tbody>\n",
       "</table>\n",
       "</div>"
      ],
      "text/plain": [
       "  ciudad  categoria                                           geometry  \\\n",
       "0  ARICA          0  POLYGON ((-70.29812 -18.50367, -70.29799 -18.5...   \n",
       "1  ARICA          0  POLYGON ((-70.32214 -18.48055, -70.32198 -18.4...   \n",
       "2  ARICA          0  POLYGON ((-70.28930 -18.42657, -70.28930 -18.4...   \n",
       "3  ARICA          0  POLYGON ((-70.27978 -18.46046, -70.27974 -18.4...   \n",
       "4  ARICA          0  POLYGON ((-70.27751 -18.48242, -70.27744 -18.4...   \n",
       "\n",
       "   index_right  OBJECTID REGION                    NOM_REGION PROVINCIA  \\\n",
       "0          342     343.0     15  REGIÓN DE ARICA Y PARINACOTA       151   \n",
       "1          342     343.0     15  REGIÓN DE ARICA Y PARINACOTA       151   \n",
       "2          342     343.0     15  REGIÓN DE ARICA Y PARINACOTA       151   \n",
       "3          342     343.0     15  REGIÓN DE ARICA Y PARINACOTA       151   \n",
       "4          342     343.0     15  REGIÓN DE ARICA Y PARINACOTA       151   \n",
       "\n",
       "  NOM_PROVIN COMUNA NOM_COMUNA  Shape_Leng  Shape_Area fecha  \n",
       "0      ARICA  15101      ARICA    3.435832    0.410331  2017  \n",
       "1      ARICA  15101      ARICA    3.435832    0.410331  2017  \n",
       "2      ARICA  15101      ARICA    3.435832    0.410331  2017  \n",
       "3      ARICA  15101      ARICA    3.435832    0.410331  2017  \n",
       "4      ARICA  15101      ARICA    3.435832    0.410331  2017  "
      ]
     },
     "execution_count": 13,
     "metadata": {},
     "output_type": "execute_result"
    }
   ],
   "source": [
    "#GENERAR VARIABLE CON FECHAS (Punto Critico)\n",
    "a_estudios['fecha'] = ['2018' if x == 1 else '2017' for x in a_estudios['categoria']]\n",
    "a_estudios.head()"
   ]
  },
  {
   "cell_type": "markdown",
   "metadata": {},
   "source": [
    "Siempre es importante definir una variable ID inmutable para todo el estudio."
   ]
  },
  {
   "cell_type": "code",
   "execution_count": 15,
   "metadata": {},
   "outputs": [
    {
     "data": {
      "text/html": [
       "<div>\n",
       "<style scoped>\n",
       "    .dataframe tbody tr th:only-of-type {\n",
       "        vertical-align: middle;\n",
       "    }\n",
       "\n",
       "    .dataframe tbody tr th {\n",
       "        vertical-align: top;\n",
       "    }\n",
       "\n",
       "    .dataframe thead th {\n",
       "        text-align: right;\n",
       "    }\n",
       "</style>\n",
       "<table border=\"1\" class=\"dataframe\">\n",
       "  <thead>\n",
       "    <tr style=\"text-align: right;\">\n",
       "      <th></th>\n",
       "      <th>ciudad</th>\n",
       "      <th>categoria</th>\n",
       "      <th>geometry</th>\n",
       "      <th>index_right</th>\n",
       "      <th>OBJECTID</th>\n",
       "      <th>REGION</th>\n",
       "      <th>NOM_REGION</th>\n",
       "      <th>PROVINCIA</th>\n",
       "      <th>NOM_PROVIN</th>\n",
       "      <th>COMUNA</th>\n",
       "      <th>NOM_COMUNA</th>\n",
       "      <th>Shape_Leng</th>\n",
       "      <th>Shape_Area</th>\n",
       "      <th>fecha</th>\n",
       "      <th>ID</th>\n",
       "    </tr>\n",
       "  </thead>\n",
       "  <tbody>\n",
       "    <tr>\n",
       "      <th>0</th>\n",
       "      <td>ARICA</td>\n",
       "      <td>0</td>\n",
       "      <td>POLYGON ((-70.29812 -18.50367, -70.29799 -18.5...</td>\n",
       "      <td>342</td>\n",
       "      <td>343.0</td>\n",
       "      <td>15</td>\n",
       "      <td>REGIÓN DE ARICA Y PARINACOTA</td>\n",
       "      <td>151</td>\n",
       "      <td>ARICA</td>\n",
       "      <td>15101</td>\n",
       "      <td>ARICA</td>\n",
       "      <td>3.435832</td>\n",
       "      <td>0.410331</td>\n",
       "      <td>2017</td>\n",
       "      <td>1</td>\n",
       "    </tr>\n",
       "    <tr>\n",
       "      <th>1</th>\n",
       "      <td>ARICA</td>\n",
       "      <td>0</td>\n",
       "      <td>POLYGON ((-70.32214 -18.48055, -70.32198 -18.4...</td>\n",
       "      <td>342</td>\n",
       "      <td>343.0</td>\n",
       "      <td>15</td>\n",
       "      <td>REGIÓN DE ARICA Y PARINACOTA</td>\n",
       "      <td>151</td>\n",
       "      <td>ARICA</td>\n",
       "      <td>15101</td>\n",
       "      <td>ARICA</td>\n",
       "      <td>3.435832</td>\n",
       "      <td>0.410331</td>\n",
       "      <td>2017</td>\n",
       "      <td>2</td>\n",
       "    </tr>\n",
       "    <tr>\n",
       "      <th>2</th>\n",
       "      <td>ARICA</td>\n",
       "      <td>0</td>\n",
       "      <td>POLYGON ((-70.28930 -18.42657, -70.28930 -18.4...</td>\n",
       "      <td>342</td>\n",
       "      <td>343.0</td>\n",
       "      <td>15</td>\n",
       "      <td>REGIÓN DE ARICA Y PARINACOTA</td>\n",
       "      <td>151</td>\n",
       "      <td>ARICA</td>\n",
       "      <td>15101</td>\n",
       "      <td>ARICA</td>\n",
       "      <td>3.435832</td>\n",
       "      <td>0.410331</td>\n",
       "      <td>2017</td>\n",
       "      <td>3</td>\n",
       "    </tr>\n",
       "    <tr>\n",
       "      <th>3</th>\n",
       "      <td>ARICA</td>\n",
       "      <td>0</td>\n",
       "      <td>POLYGON ((-70.27978 -18.46046, -70.27974 -18.4...</td>\n",
       "      <td>342</td>\n",
       "      <td>343.0</td>\n",
       "      <td>15</td>\n",
       "      <td>REGIÓN DE ARICA Y PARINACOTA</td>\n",
       "      <td>151</td>\n",
       "      <td>ARICA</td>\n",
       "      <td>15101</td>\n",
       "      <td>ARICA</td>\n",
       "      <td>3.435832</td>\n",
       "      <td>0.410331</td>\n",
       "      <td>2017</td>\n",
       "      <td>4</td>\n",
       "    </tr>\n",
       "    <tr>\n",
       "      <th>4</th>\n",
       "      <td>ARICA</td>\n",
       "      <td>0</td>\n",
       "      <td>POLYGON ((-70.27751 -18.48242, -70.27744 -18.4...</td>\n",
       "      <td>342</td>\n",
       "      <td>343.0</td>\n",
       "      <td>15</td>\n",
       "      <td>REGIÓN DE ARICA Y PARINACOTA</td>\n",
       "      <td>151</td>\n",
       "      <td>ARICA</td>\n",
       "      <td>15101</td>\n",
       "      <td>ARICA</td>\n",
       "      <td>3.435832</td>\n",
       "      <td>0.410331</td>\n",
       "      <td>2017</td>\n",
       "      <td>5</td>\n",
       "    </tr>\n",
       "  </tbody>\n",
       "</table>\n",
       "</div>"
      ],
      "text/plain": [
       "  ciudad  categoria                                           geometry  \\\n",
       "0  ARICA          0  POLYGON ((-70.29812 -18.50367, -70.29799 -18.5...   \n",
       "1  ARICA          0  POLYGON ((-70.32214 -18.48055, -70.32198 -18.4...   \n",
       "2  ARICA          0  POLYGON ((-70.28930 -18.42657, -70.28930 -18.4...   \n",
       "3  ARICA          0  POLYGON ((-70.27978 -18.46046, -70.27974 -18.4...   \n",
       "4  ARICA          0  POLYGON ((-70.27751 -18.48242, -70.27744 -18.4...   \n",
       "\n",
       "   index_right  OBJECTID REGION                    NOM_REGION PROVINCIA  \\\n",
       "0          342     343.0     15  REGIÓN DE ARICA Y PARINACOTA       151   \n",
       "1          342     343.0     15  REGIÓN DE ARICA Y PARINACOTA       151   \n",
       "2          342     343.0     15  REGIÓN DE ARICA Y PARINACOTA       151   \n",
       "3          342     343.0     15  REGIÓN DE ARICA Y PARINACOTA       151   \n",
       "4          342     343.0     15  REGIÓN DE ARICA Y PARINACOTA       151   \n",
       "\n",
       "  NOM_PROVIN COMUNA NOM_COMUNA  Shape_Leng  Shape_Area fecha  ID  \n",
       "0      ARICA  15101      ARICA    3.435832    0.410331  2017   1  \n",
       "1      ARICA  15101      ARICA    3.435832    0.410331  2017   2  \n",
       "2      ARICA  15101      ARICA    3.435832    0.410331  2017   3  \n",
       "3      ARICA  15101      ARICA    3.435832    0.410331  2017   4  \n",
       "4      ARICA  15101      ARICA    3.435832    0.410331  2017   5  "
      ]
     },
     "execution_count": 15,
     "metadata": {},
     "output_type": "execute_result"
    }
   ],
   "source": [
    "#GENERAR ID\n",
    "indice =  a_estudios.index + 1\n",
    "a_estudios['ID'] = indice\n",
    "a_estudios.head()"
   ]
  },
  {
   "cell_type": "markdown",
   "metadata": {},
   "source": [
    "Finalmente haremos un proceso de Selección de variables que aportarán en nuestro estudio."
   ]
  },
  {
   "cell_type": "code",
   "execution_count": 16,
   "metadata": {},
   "outputs": [
    {
     "data": {
      "text/html": [
       "<div>\n",
       "<style scoped>\n",
       "    .dataframe tbody tr th:only-of-type {\n",
       "        vertical-align: middle;\n",
       "    }\n",
       "\n",
       "    .dataframe tbody tr th {\n",
       "        vertical-align: top;\n",
       "    }\n",
       "\n",
       "    .dataframe thead th {\n",
       "        text-align: right;\n",
       "    }\n",
       "</style>\n",
       "<table border=\"1\" class=\"dataframe\">\n",
       "  <thead>\n",
       "    <tr style=\"text-align: right;\">\n",
       "      <th></th>\n",
       "      <th>ID</th>\n",
       "      <th>ciudad</th>\n",
       "      <th>categoria</th>\n",
       "      <th>fecha</th>\n",
       "      <th>COMUNA</th>\n",
       "      <th>NOM_COMUNA</th>\n",
       "      <th>PROVINCIA</th>\n",
       "      <th>NOM_PROVIN</th>\n",
       "      <th>REGION</th>\n",
       "      <th>NOM_REGION</th>\n",
       "      <th>geometry</th>\n",
       "    </tr>\n",
       "  </thead>\n",
       "  <tbody>\n",
       "    <tr>\n",
       "      <th>0</th>\n",
       "      <td>1</td>\n",
       "      <td>ARICA</td>\n",
       "      <td>0</td>\n",
       "      <td>2017</td>\n",
       "      <td>15101</td>\n",
       "      <td>ARICA</td>\n",
       "      <td>151</td>\n",
       "      <td>ARICA</td>\n",
       "      <td>15</td>\n",
       "      <td>REGIÓN DE ARICA Y PARINACOTA</td>\n",
       "      <td>POLYGON ((-70.29812 -18.50367, -70.29799 -18.5...</td>\n",
       "    </tr>\n",
       "    <tr>\n",
       "      <th>1</th>\n",
       "      <td>2</td>\n",
       "      <td>ARICA</td>\n",
       "      <td>0</td>\n",
       "      <td>2017</td>\n",
       "      <td>15101</td>\n",
       "      <td>ARICA</td>\n",
       "      <td>151</td>\n",
       "      <td>ARICA</td>\n",
       "      <td>15</td>\n",
       "      <td>REGIÓN DE ARICA Y PARINACOTA</td>\n",
       "      <td>POLYGON ((-70.32214 -18.48055, -70.32198 -18.4...</td>\n",
       "    </tr>\n",
       "    <tr>\n",
       "      <th>2</th>\n",
       "      <td>3</td>\n",
       "      <td>ARICA</td>\n",
       "      <td>0</td>\n",
       "      <td>2017</td>\n",
       "      <td>15101</td>\n",
       "      <td>ARICA</td>\n",
       "      <td>151</td>\n",
       "      <td>ARICA</td>\n",
       "      <td>15</td>\n",
       "      <td>REGIÓN DE ARICA Y PARINACOTA</td>\n",
       "      <td>POLYGON ((-70.28930 -18.42657, -70.28930 -18.4...</td>\n",
       "    </tr>\n",
       "    <tr>\n",
       "      <th>3</th>\n",
       "      <td>4</td>\n",
       "      <td>ARICA</td>\n",
       "      <td>0</td>\n",
       "      <td>2017</td>\n",
       "      <td>15101</td>\n",
       "      <td>ARICA</td>\n",
       "      <td>151</td>\n",
       "      <td>ARICA</td>\n",
       "      <td>15</td>\n",
       "      <td>REGIÓN DE ARICA Y PARINACOTA</td>\n",
       "      <td>POLYGON ((-70.27978 -18.46046, -70.27974 -18.4...</td>\n",
       "    </tr>\n",
       "    <tr>\n",
       "      <th>4</th>\n",
       "      <td>5</td>\n",
       "      <td>ARICA</td>\n",
       "      <td>0</td>\n",
       "      <td>2017</td>\n",
       "      <td>15101</td>\n",
       "      <td>ARICA</td>\n",
       "      <td>151</td>\n",
       "      <td>ARICA</td>\n",
       "      <td>15</td>\n",
       "      <td>REGIÓN DE ARICA Y PARINACOTA</td>\n",
       "      <td>POLYGON ((-70.27751 -18.48242, -70.27744 -18.4...</td>\n",
       "    </tr>\n",
       "  </tbody>\n",
       "</table>\n",
       "</div>"
      ],
      "text/plain": [
       "   ID ciudad  categoria fecha COMUNA NOM_COMUNA PROVINCIA NOM_PROVIN REGION  \\\n",
       "0   1  ARICA          0  2017  15101      ARICA       151      ARICA     15   \n",
       "1   2  ARICA          0  2017  15101      ARICA       151      ARICA     15   \n",
       "2   3  ARICA          0  2017  15101      ARICA       151      ARICA     15   \n",
       "3   4  ARICA          0  2017  15101      ARICA       151      ARICA     15   \n",
       "4   5  ARICA          0  2017  15101      ARICA       151      ARICA     15   \n",
       "\n",
       "                     NOM_REGION  \\\n",
       "0  REGIÓN DE ARICA Y PARINACOTA   \n",
       "1  REGIÓN DE ARICA Y PARINACOTA   \n",
       "2  REGIÓN DE ARICA Y PARINACOTA   \n",
       "3  REGIÓN DE ARICA Y PARINACOTA   \n",
       "4  REGIÓN DE ARICA Y PARINACOTA   \n",
       "\n",
       "                                            geometry  \n",
       "0  POLYGON ((-70.29812 -18.50367, -70.29799 -18.5...  \n",
       "1  POLYGON ((-70.32214 -18.48055, -70.32198 -18.4...  \n",
       "2  POLYGON ((-70.28930 -18.42657, -70.28930 -18.4...  \n",
       "3  POLYGON ((-70.27978 -18.46046, -70.27974 -18.4...  \n",
       "4  POLYGON ((-70.27751 -18.48242, -70.27744 -18.4...  "
      ]
     },
     "execution_count": 16,
     "metadata": {},
     "output_type": "execute_result"
    }
   ],
   "source": [
    "# Remover las variables que no se necitarán\n",
    "columnas_nombres = ['ID','ciudad', 'categoria', 'fecha', 'COMUNA',\n",
    "                    'NOM_COMUNA','PROVINCIA','NOM_PROVIN',\n",
    "                    'REGION', 'NOM_REGION','geometry']\n",
    "a_estudios = a_estudios[columnas_nombres]\n",
    "\n",
    "a_estudios.head()\n",
    "#a_estudios.NOM_COMUNA.unique()"
   ]
  },
  {
   "cell_type": "markdown",
   "metadata": {},
   "source": [
    "#### 6. Guardar Achivo Resultante en Local y subir GEE"
   ]
  },
  {
   "cell_type": "markdown",
   "metadata": {},
   "source": [
    "Finalmente se subirá el archivo resultante se descargará a local y se subirá al asset de Google Earth Engine, como se les enseñó en submódulo anterior."
   ]
  },
  {
   "cell_type": "code",
   "execution_count": 17,
   "metadata": {},
   "outputs": [],
   "source": [
    "# Almecenar archivo en local\n",
    "a_estudios.to_file(\"../data/poligonos/a_estudios_curso.shp\",\n",
    "                  encoding = 'utf-8')"
   ]
  },
  {
   "cell_type": "code",
   "execution_count": 18,
   "metadata": {},
   "outputs": [],
   "source": [
    "# Almecenar archivo directamente a GEE (asset Personal)\n",
    "import ee\n",
    "import geemap\n",
    "# inicializamos\n",
    "ee.Initialize()"
   ]
  },
  {
   "cell_type": "code",
   "execution_count": 21,
   "metadata": {},
   "outputs": [],
   "source": [
    "## desde la librería ggmap convertiremos shp a ee.Features\n",
    "a_estudios_shp = '../data/poligonos/a_estudios_curso.shp'\n",
    "aestudios_gee = geemap.shp_to_ee(a_estudios_shp)\n",
    "\n",
    "## \n",
    "task = ee.batch.Export.table.toAsset(\n",
    "    collection = aestudios_gee,\n",
    "    description='exportToTableAssetExample',\n",
    "    assetId= 'users/denisberroeta/aecurso_sii_3',)\n",
    "task.start()"
   ]
  },
  {
   "cell_type": "code",
   "execution_count": 24,
   "metadata": {},
   "outputs": [
    {
     "data": {
      "text/plain": [
       "{'state': 'COMPLETED',\n",
       " 'description': 'exportToTableAssetExample',\n",
       " 'creation_timestamp_ms': 1592342887914,\n",
       " 'update_timestamp_ms': 1592342912166,\n",
       " 'start_timestamp_ms': 1592342892418,\n",
       " 'task_type': 'EXPORT_FEATURES',\n",
       " 'destination_uris': ['https://code.earthengine.google.com/?asset=projects/earthengine-legacy/assets/users/denisberroeta/aecurso_sii_3'],\n",
       " 'id': 'UPAIRXGMFIKUTJXXKMRPCYTX',\n",
       " 'name': 'projects/earthengine-legacy/operations/UPAIRXGMFIKUTJXXKMRPCYTX'}"
      ]
     },
     "execution_count": 24,
     "metadata": {},
     "output_type": "execute_result"
    }
   ],
   "source": [
    "task.status()"
   ]
  },
  {
   "cell_type": "markdown",
   "metadata": {},
   "source": [
    "#### 7. Declaración de Tarea 1 y Criterios de Evaluación"
   ]
  },
  {
   "cell_type": "markdown",
   "metadata": {},
   "source": [
    "Para el presente tarea, el entregable será un archivo jupyter notebook, similar a este, cuyo proceso de evaluación será de acuerdo a los siguientes criterios:"
   ]
  },
  {
   "cell_type": "markdown",
   "metadata": {},
   "source": [
    "| Procedimientos                                    | Evaluación                            | Puntaje |\n",
    "|---------------------------------------------------|---------------------------------------|---------|\n",
    "| Transformar geometría a formato .shp              | Entrega geometría                     |     15% |\n",
    "| Atributar codigo comuna, region, etc              | Geometría contiene variables geo      |     15% |\n",
    "| Agregar campo de registro cambios (0-1)           | Existe variable que registra cambio   |     30% |\n",
    "| Agregar campo de período de cambios (fecha 1 y 2) | Existe variable que registra periodo  |     30% |\n",
    "| Subir insumos a GGE                               | Carga insumos en GGE                  |     10% |\n"
   ]
  },
  {
   "cell_type": "markdown",
   "metadata": {},
   "source": [
    "#### 8. Referencias"
   ]
  },
  {
   "cell_type": "markdown",
   "metadata": {},
   "source": [
    "\n",
    "* Unir Data Espacial con geopandas\n",
    "\n",
    "[https://geopandas.org/reference/geopandas.sjoin.html](https://geopandas.org/reference/geopandas.sjoin.html)\n",
    "\n",
    "[https://geopandas.org/mergingdata.html](https://geopandas.org/mergingdata.html)\n",
    "\n",
    "[https://geopandas.org/set_operations.html](https://geopandas.org/set_operations.html)\n",
    "\n",
    "* geemap (GEE con Python)\n",
    "\n",
    "[https://pypi.org/project/geemap/](https://pypi.org/project/geemap/)\n",
    "\n",
    "* Exportar archivos a GEE\n",
    "\n",
    "[https://developers.google.com/earth-engine/exporting](https://developers.google.com/earth-engine/exporting)"
   ]
  }
 ],
 "metadata": {
  "kernelspec": {
   "display_name": "curso-sii",
   "language": "python",
   "name": "curso-sii"
  },
  "language_info": {
   "codemirror_mode": {
    "name": "ipython",
    "version": 3
   },
   "file_extension": ".py",
   "mimetype": "text/x-python",
   "name": "python",
   "nbconvert_exporter": "python",
   "pygments_lexer": "ipython3",
   "version": "3.8.3"
  }
 },
 "nbformat": 4,
 "nbformat_minor": 4
}
